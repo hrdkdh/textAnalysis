{
 "cells": [
  {
   "attachments": {},
   "cell_type": "markdown",
   "metadata": {},
   "source": [
    "## [연습1]\n",
    "### 네이버(https://www.naver.com) 웹 사이트에 접속하여 메인에 있는 웹툰 페이지로 이동하는 코드를 작성하시오."
   ]
  },
  {
   "cell_type": "code",
   "execution_count": null,
   "metadata": {},
   "outputs": [],
   "source": [
    "from selenium import webdriver\n",
    "\n",
    "driver = webdriver.Chrome(\"webdriver/chromedriver.exe\") #웹드라이버 경로는 자신의 환경에 맞게 변경해 주어야 함\n",
    "driver.get(\"https://www.naver.com\")\n",
    "selector = \"#NM_FAVORITE > div.group_nav > ul.list_nav.NM_FAVORITE_LIST > li:nth-child(9) > a\"\n",
    "driver.find_element_by_css_selector(selector).click()"
   ]
  },
  {
   "cell_type": "markdown",
   "metadata": {},
   "source": [
    "## [연습2]\n",
    "### 인터파크 티켓(https://www.ticket.interpark.com) 웹 사이트에 접속하여 “아이유”를 검색하는 코드를 작성하시오."
   ]
  },
  {
   "cell_type": "code",
   "execution_count": null,
   "metadata": {},
   "outputs": [],
   "source": [
    "from selenium import webdriver\n",
    "\n",
    "driver = webdriver.Chrome(\"webdriver/chromedriver.exe\") #웹드라이버 경로는 자신의 환경에 맞게 변경해 주어야 함\n",
    "driver.get(\"http://ticket.interpark.com\")\n",
    "driver.find_element_by_css_selector(\"#Nav_SearchWord\").send_keys(\"아이유\")\n",
    "driver.find_element_by_css_selector(\"#AllSearch > fieldset > div.box > a\").click()"
   ]
  },
  {
   "cell_type": "markdown",
   "metadata": {},
   "source": [
    "## [실습1]\n",
    "### 다음 페이지에서 기사 제목을 가져와 주피터노트북 셀 output에 출력하시오.  \n",
    "페이지 : https://www.investing.com/indices/us-spx-500"
   ]
  },
  {
   "cell_type": "code",
   "execution_count": null,
   "metadata": {},
   "outputs": [],
   "source": [
    "#여기에 실습내용 입력\n",
    "\n"
   ]
  },
  {
   "cell_type": "markdown",
   "metadata": {},
   "source": [
    "## [실습2]\n",
    "### FnGuide 페이지 하단의 Business Summary 제목을 파일에 출력하시오. (출력 파일의 이름은 out.txt로 저장)  \n",
    "페이지 : http://comp.fnguide.com/SVO2/ASP/SVD_main.asp"
   ]
  },
  {
   "cell_type": "code",
   "execution_count": null,
   "metadata": {},
   "outputs": [],
   "source": [
    "#여기에 실습내용 입력\n",
    "\n"
   ]
  },
  {
   "cell_type": "markdown",
   "metadata": {},
   "source": [
    "## [실습2]\n",
    "### FnGuide 페이지에 접속하여 아래 두 종목을 검색, 각 종목의 Business Summary 제목을 파일로 출력하시오.\n",
    "#### 미래에셋대우(006800)와 메가스터디(072870)의 정보를 파일 out.txt로 출력  \n",
    "페이지 : http://comp.fnguide.com/SVO2/ASP/SVD_main.asp"
   ]
  },
  {
   "cell_type": "code",
   "execution_count": null,
   "metadata": {},
   "outputs": [],
   "source": [
    "#여기에 실습내용 입력\n",
    "\n"
   ]
  }
 ],
 "metadata": {
  "kernelspec": {
   "display_name": "Python 3",
   "language": "python",
   "name": "python3"
  },
  "language_info": {
   "codemirror_mode": {
    "name": "ipython",
    "version": 3
   },
   "file_extension": ".py",
   "mimetype": "text/x-python",
   "name": "python",
   "nbconvert_exporter": "python",
   "pygments_lexer": "ipython3",
   "version": "3.7.9"
  }
 },
 "nbformat": 4,
 "nbformat_minor": 4
}
