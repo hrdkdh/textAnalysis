{
 "cells": [
  {
   "cell_type": "markdown",
   "metadata": {},
   "source": [
    "## [강의] 파이썬에서 크롬 브라우저 제어"
   ]
  },
  {
   "cell_type": "code",
   "execution_count": null,
   "metadata": {},
   "outputs": [],
   "source": [
    "from selenium import webdriver\n",
    "\n",
    "driver = webdriver.Chrome(\"webdriver/chromedriver.exe\") #웹드라이버 경로는 자신의 환경에 맞게 변경해 주어야 함\n",
    "driver.get(\"https://www.naver.com\")"
   ]
  },
  {
   "cell_type": "markdown",
   "metadata": {},
   "source": [
    "## [강의] 마우스 클릭 기능 사용하기"
   ]
  },
  {
   "cell_type": "code",
   "execution_count": null,
   "metadata": {},
   "outputs": [],
   "source": [
    "from selenium import webdriver\n",
    "\n",
    "driver = webdriver.Chrome(\"webdriver/chromedriver.exe\") #웹드라이버 경로는 자신의 환경에 맞게 변경해 주어야 함\n",
    "driver.get(\"https://www.naver.com\")\n",
    "\n",
    "selector = \"#NM_FAVORITE > div.group_nav > ul.list_nav.NM_FAVORITE_LIST > li:nth-child(1) > a\"\n",
    "ui = driver.find_element_by_css_selector(selector)\n",
    "ui.click()"
   ]
  },
  {
   "cell_type": "markdown",
   "metadata": {},
   "source": [
    "## <font color=blue>[연습1]</font>  \n",
    "### 네이버(https://www.naver.com) 웹 사이트에 접속하여 메인에 있는 웹툰 페이지로 이동하는 코드를 작성하시오."
   ]
  },
  {
   "cell_type": "code",
   "execution_count": null,
   "metadata": {},
   "outputs": [],
   "source": [
    "from selenium import webdriver\n",
    "\n",
    "driver = webdriver.Chrome(\"webdriver/chromedriver.exe\") #웹드라이버 경로는 자신의 환경에 맞게 변경해 주어야 함\n",
    "driver.get(\"https://www.naver.com\")\n",
    "\n",
    "selector = \"#NM_FAVORITE > div.group_nav > ul.list_nav.NM_FAVORITE_LIST > li:nth-child(9) > a\"\n",
    "driver.find_element_by_css_selector(selector).click()"
   ]
  },
  {
   "cell_type": "markdown",
   "metadata": {},
   "source": [
    "## [강의] 네이버에 검색어 입력하고 검색 버튼 클릭하기"
   ]
  },
  {
   "cell_type": "code",
   "execution_count": null,
   "metadata": {},
   "outputs": [],
   "source": [
    "from selenium import webdriver\n",
    "\n",
    "driver = webdriver.Chrome(\"webdriver/chromedriver.exe\") #웹드라이버 경로는 자신의 환경에 맞게 변경해 주어야 함\n",
    "driver.get(\"https://www.naver.com\")\n",
    "\n",
    "driver.find_element_by_css_selector(\"#query\").send_keys(\"방탄소년단\")\n",
    "driver.find_element_by_css_selector(\"#search_btn\").click()"
   ]
  },
  {
   "cell_type": "markdown",
   "metadata": {},
   "source": [
    "## <font color=blue>[연습2]</font>  \n",
    "### 인터파크 티켓(https://www.ticket.interpark.com) 웹 사이트에 접속하여 “아이유”를 검색하는 코드를 작성하시오."
   ]
  },
  {
   "cell_type": "code",
   "execution_count": null,
   "metadata": {},
   "outputs": [],
   "source": [
    "from selenium import webdriver\n",
    "\n",
    "driver = webdriver.Chrome(\"webdriver/chromedriver.exe\") #웹드라이버 경로는 자신의 환경에 맞게 변경해 주어야 함\n",
    "driver.get(\"http://ticket.interpark.com\")\n",
    "driver.find_element_by_css_selector(\"#Nav_SearchWord\").send_keys(\"아이유\")\n",
    "driver.find_element_by_css_selector(\"#AllSearch > fieldset > div.box > a\").click()"
   ]
  },
  {
   "cell_type": "markdown",
   "metadata": {},
   "source": [
    "## [강의] Selenium과 스크래핑 : 아이유 콘서트 정보 스크래핑 해오기"
   ]
  },
  {
   "cell_type": "code",
   "execution_count": null,
   "metadata": {
    "scrolled": false
   },
   "outputs": [],
   "source": [
    "import time\n",
    "from selenium import webdriver\n",
    "from bs4 import BeautifulSoup\n",
    "\n",
    "options = webdriver.ChromeOptions()\n",
    "\n",
    "#headless 모드로 사용하려면 아래 주석 활성화\n",
    "# options.add_argument('headless')\n",
    "\n",
    "driver = webdriver.Chrome(\"webdriver/chromedriver.exe\", options=options) #웹드라이버 경로는 자신의 환경에 맞게 변경해 주어야 함\n",
    "driver.get(\"http://ticket.interpark.com\")\n",
    "driver.find_element_by_css_selector(\"#Nav_SearchWord\").send_keys(\"아이유\")\n",
    "driver.find_element_by_css_selector(\"#AllSearch > fieldset > div.box > a\").click()\n",
    "\n",
    "#셀레니움 CSS 셀렉터를 활용해 text 속성값 가져와보기\n",
    "driver.implicitly_wait(5)\n",
    "selector = \"#allContent > div.ticketContent > div.searchPanel > ul > li:nth-child(1) > div.col.data > div.itemName > a\"\n",
    "ui = driver.find_element_by_css_selector(selector)\n",
    "print(\"셀레니움 CSS 셀렉터를 이용한 스크래핑 결과 : {}\".format(ui.text))\n",
    "\n",
    "#페이지 전체의 HTML을 BeautifulSoup로 가져와 원하는 text 속성값만 가져와보기\n",
    "time.sleep(5)\n",
    "html = driver.page_source\n",
    "soup = BeautifulSoup(html, \"html5lib\") #html5lib 모듈 설치필요\n",
    "selector_for_bs = \"#allContent > div.ticketContent > div.searchPanel > ul > li:nth-of-type(1) > div.col.data > div.itemName > a\"\n",
    "result = soup.select(selector_for_bs)[0].text\n",
    "\n",
    "print(\"BeautifulSoup를 이용한 스크래핑 결과 : {}\".format(result))"
   ]
  },
  {
   "attachments": {},
   "cell_type": "markdown",
   "metadata": {},
   "source": [
    "## <font color=blue>[실습1]</font>  \n",
    "### Selenium 모듈을 이용해 교보문고 베스트셀러 페이지로 접속한 다음, 월간 > 소설 항목으로 접속하여 베스트셀러의 제목들을 출력해 보세요.\n",
    "페이지 : https://www.kyobobook.co.kr/bestSellerNew/bestseller.laf"
   ]
  },
  {
   "cell_type": "code",
   "execution_count": null,
   "metadata": {},
   "outputs": [],
   "source": [
    "from selenium import webdriver\n",
    "\n",
    "driver = webdriver.Chrome(\"webdriver/chromedriver.exe\") #웹드라이버 경로는 자신의 환경에 맞게 변경해 주어야 함\n",
    "driver.get(\"https://www.kyobobook.co.kr/bestSellerNew/bestseller.laf\")\n",
    "driver.find_element_by_css_selector(\"#main_snb > div.nav_category > ul > li:nth-child(1) > ul > li.on > a\").click()\n",
    "driver.find_element_by_css_selector(\"#main_contents > div.box_sub_category.fixed_sub_category > ul > li:nth-child(2) > a\").click()\n",
    "\n",
    "html = driver.page_source\n",
    "soup = BeautifulSoup(html, \"html.parser\")\n",
    "\n",
    "book_titles = soup.select(\".list_type01 .title a strong\")\n",
    "for book_title in book_titles:\n",
    "    print(book_title.text)"
   ]
  },
  {
   "cell_type": "markdown",
   "metadata": {},
   "source": [
    "## <font color=blue>[실습2]</font>  \n",
    "### Selenium 모듈을 이용해 당근마켓 인기매물 페이지로 접속한 다음, 지역을 포항시 남구로 설정하여 인기매물 목록과 가격을 출력해 보세요.\n",
    "페이지 : https://www.daangn.com/hot_articles"
   ]
  },
  {
   "cell_type": "code",
   "execution_count": null,
   "metadata": {},
   "outputs": [],
   "source": [
    "from selenium import webdriver\n",
    "\n",
    "driver = webdriver.Chrome(\"webdriver/chromedriver.exe\") #웹드라이버 경로는 자신의 환경에 맞게 변경해 주어야 함\n",
    "driver.get(\"https://www.daangn.com/hot_articles\")\n",
    "driver.find_element_by_css_selector(\"#region1 > option:nth-child(16)\").click()\n",
    "driver.find_element_by_css_selector(\"#region2 > option:nth-child(24)\").click()\n",
    "html = driver.page_source\n",
    "soup = BeautifulSoup(html, \"html.parser\")\n",
    "\n",
    "items = soup.select(\".card-desc\")\n",
    "for item in items:\n",
    "    item_title = item.select(\".card-title\")[0].text.strip()\n",
    "    item_price = item.select(\".card-price\")[0].text.strip()\n",
    "    print(\"{} (가격 : {})\".format(item_title, item_price))"
   ]
  }
 ],
 "metadata": {
  "kernelspec": {
   "display_name": "Python 3",
   "language": "python",
   "name": "python3"
  },
  "language_info": {
   "codemirror_mode": {
    "name": "ipython",
    "version": 3
   },
   "file_extension": ".py",
   "mimetype": "text/x-python",
   "name": "python",
   "nbconvert_exporter": "python",
   "pygments_lexer": "ipython3",
   "version": "3.7.9"
  }
 },
 "nbformat": 4,
 "nbformat_minor": 4
}
