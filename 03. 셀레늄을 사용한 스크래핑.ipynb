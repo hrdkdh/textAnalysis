{
 "cells": [
  {
   "cell_type": "markdown",
   "metadata": {},
   "source": [
    "## [강의] 파이썬에서 크롬 브라우저 제어"
   ]
  },
  {
   "cell_type": "code",
   "execution_count": null,
   "metadata": {},
   "outputs": [],
   "source": [
    "from selenium import webdriver\n",
    "\n",
    "driver = webdriver.Chrome(\"webdriver/chromedriver.exe\") #웹드라이버 경로는 자신의 환경에 맞게 변경해 주어야 함\n",
    "driver.get(\"https://www.naver.com\")"
   ]
  },
  {
   "cell_type": "markdown",
   "metadata": {},
   "source": [
    "## [강의] 마우스 클릭 기능 사용하기"
   ]
  },
  {
   "cell_type": "code",
   "execution_count": null,
   "metadata": {},
   "outputs": [],
   "source": [
    "from selenium import webdriver\n",
    "\n",
    "driver = webdriver.Chrome(\"webdriver/chromedriver.exe\") #웹드라이버 경로는 자신의 환경에 맞게 변경해 주어야 함\n",
    "driver.get(\"https://www.naver.com\")\n",
    "\n",
    "selector = \"#NM_FAVORITE > div.group_nav > ul.list_nav.NM_FAVORITE_LIST > li:nth-child(1) > a\"\n",
    "ui = driver.find_element_by_css_selector(selector)\n",
    "ui.click()"
   ]
  },
  {
   "cell_type": "markdown",
   "metadata": {},
   "source": [
    "## <font color=blue>[연습1]</font>\n",
    "### 네이버(https://www.naver.com) 웹 사이트에 접속하여 메인에 있는 웹툰 페이지로 이동하는 코드를 작성하시오."
   ]
  },
  {
   "cell_type": "code",
   "execution_count": null,
   "metadata": {},
   "outputs": [],
   "source": [
    "from selenium import webdriver\n",
    "\n",
    "driver = webdriver.Chrome(\"webdriver/chromedriver.exe\") #웹드라이버 경로는 자신의 환경에 맞게 변경해 주어야 함\n",
    "driver.get(\"https://www.naver.com\")\n",
    "\n",
    "selector = \"#NM_FAVORITE > div.group_nav > ul.list_nav.NM_FAVORITE_LIST > li:nth-child(9) > a\"\n",
    "driver.find_element_by_css_selector(selector).click()"
   ]
  },
  {
   "cell_type": "markdown",
   "metadata": {},
   "source": [
    "## [강의] 네이버에 검색어 입력하고 검색 버튼 클릭하기"
   ]
  },
  {
   "cell_type": "code",
   "execution_count": null,
   "metadata": {},
   "outputs": [],
   "source": [
    "from selenium import webdriver\n",
    "\n",
    "driver = webdriver.Chrome(\"webdriver/chromedriver.exe\") #웹드라이버 경로는 자신의 환경에 맞게 변경해 주어야 함\n",
    "driver.get(\"https://www.naver.com\")\n",
    "\n",
    "driver.find_element_by_css_selector(\"#query\").send_keys(\"방탄소년단\")\n",
    "driver.find_element_by_css_selector(\"#search_btn\").click()"
   ]
  },
  {
   "cell_type": "markdown",
   "metadata": {},
   "source": [
    "## <font color=blue>[연습2]</font>\n",
    "### 인터파크 티켓(https://www.ticket.interpark.com) 웹 사이트에 접속하여 “아이유”를 검색하는 코드를 작성하시오."
   ]
  },
  {
   "cell_type": "code",
   "execution_count": null,
   "metadata": {},
   "outputs": [],
   "source": [
    "from selenium import webdriver\n",
    "\n",
    "driver = webdriver.Chrome(\"webdriver/chromedriver.exe\") #웹드라이버 경로는 자신의 환경에 맞게 변경해 주어야 함\n",
    "driver.get(\"http://ticket.interpark.com\")\n",
    "driver.find_element_by_css_selector(\"#Nav_SearchWord\").send_keys(\"아이유\")\n",
    "driver.find_element_by_css_selector(\"#AllSearch > fieldset > div.box > a\").click()"
   ]
  },
  {
   "attachments": {},
   "cell_type": "markdown",
   "metadata": {},
   "source": [
    "## [강의] Selenium과 스크래핑 : 아이유 콘서트 정보 스크래핑 해오기"
   ]
  },
  {
   "cell_type": "code",
   "execution_count": null,
   "metadata": {
    "scrolled": false
   },
   "outputs": [],
   "source": [
    "import time\n",
    "from selenium import webdriver\n",
    "from bs4 import BeautifulSoup\n",
    "\n",
    "options = webdriver.ChromeOptions()\n",
    "\n",
    "#headless 모드로 사용하려면 아래 주석 활성화\n",
    "# options.add_argument('headless')\n",
    "\n",
    "driver = webdriver.Chrome(\"webdriver/chromedriver.exe\", options=options) #웹드라이버 경로는 자신의 환경에 맞게 변경해 주어야 함\n",
    "driver.get(\"http://ticket.interpark.com\")\n",
    "driver.find_element_by_css_selector(\"#Nav_SearchWord\").send_keys(\"아이유\")\n",
    "driver.find_element_by_css_selector(\"#AllSearch > fieldset > div.box > a\").click()\n",
    "\n",
    "#셀레니움 CSS 셀렉터를 활용해 text 속성값 가져와보기\n",
    "driver.implicitly_wait(5)\n",
    "selector = \"#allContent > div.ticketContent > div.searchPanel > ul > li:nth-child(1) > div.col.data > div.itemName > a\"\n",
    "ui = driver.find_element_by_css_selector(selector)\n",
    "print(\"셀레니움 CSS 셀렉터를 이용한 스크래핑 결과 : {}\".format(ui.text))\n",
    "\n",
    "#페이지 전체의 HTML을 BeautifulSoup로 가져와 원하는 text 속성값만 가져와보기\n",
    "time.sleep(5)\n",
    "html = driver.page_source\n",
    "soup = BeautifulSoup(html, \"html5lib\") #html5lib 모듈 설치필요\n",
    "selector_for_bs = \"#allContent > div.ticketContent > div.searchPanel > ul > li:nth-of-type(1) > div.col.data > div.itemName > a\"\n",
    "result = soup.select(selector_for_bs)[0].text\n",
    "\n",
    "print(\"BeautifulSoup를 이용한 스크래핑 결과 : {}\".format(result))"
   ]
  },
  {
   "attachments": {},
   "cell_type": "markdown",
   "metadata": {},
   "source": [
    "## <font color=blue>[실습1]</font>\n",
    "### S&P 뉴스 첫 페이지에 있는 기사 제목들을 모두 가져와 주피터 노트북 셀 output에 출력하시오.\n",
    "페이지 : https://www.investing.com/indices/us-spx-500-news"
   ]
  },
  {
   "cell_type": "code",
   "execution_count": null,
   "metadata": {},
   "outputs": [],
   "source": [
    "from selenium import webdriver\n",
    "\n",
    "driver = webdriver.Chrome(\"webdriver/chromedriver.exe\") #웹드라이버 경로는 자신의 환경에 맞게 변경해 주어야 함\n",
    "driver.get(\"https://www.investing.com/indices/us-spx-500-news\")\n",
    "\n",
    "#driver.find_elements_by_css_selector 메서드를 이용하면 리스트를 return해 주므로 반복문 사용이 가능\n",
    "#element'뒤에 s'가 붙어있음을 주의!\n",
    "titles = driver.find_elements_by_css_selector(\"#leftColumn > div.mediumTitle1 article .title\")\n",
    "for title in titles:\n",
    "    print(title.text)"
   ]
  },
  {
   "cell_type": "markdown",
   "metadata": {},
   "source": [
    "## <font color=blue>[실습2]</font>\n",
    "### FnGuide 페이지 하단의 Business Summary 제목을 파일에 출력하시오. (출력 파일의 이름은 out.txt로 저장)  \n",
    "페이지 : http://comp.fnguide.com/SVO2/ASP/SVD_main.asp"
   ]
  },
  {
   "cell_type": "code",
   "execution_count": null,
   "metadata": {},
   "outputs": [],
   "source": [
    "from selenium import webdriver\n",
    "\n",
    "driver = webdriver.Chrome(\"webdriver/chromedriver.exe\") #웹드라이버 경로는 자신의 환경에 맞게 변경해 주어야 함\n",
    "driver.get(\"http://comp.fnguide.com/SVO2/ASP/SVD_main.asp\")\n",
    "\n",
    "title = driver.find_element_by_css_selector(\"#bizSummaryHeader\").text\n",
    "f = open(\"out.txt\", \"w\")\n",
    "f.write(title)\n",
    "f.close()\n",
    "\n",
    "print(\"out.txt 파일생성 완료\")"
   ]
  },
  {
   "cell_type": "markdown",
   "metadata": {},
   "source": [
    "## <font color=blue>[실습3]</font>\n",
    "### FnGuide 페이지에 접속하여 아래 두 종목을 검색, 각 종목의 Business Summary 제목을 파일로 출력하시오.\n",
    "종목명 : 미래에셋대우(006800)와 메가스터디(072870)  \n",
    "페이지 : http://comp.fnguide.com/SVO2/ASP/SVD_main.asp  \n",
    "파일명 : out2.txt로 저장"
   ]
  },
  {
   "cell_type": "code",
   "execution_count": null,
   "metadata": {},
   "outputs": [],
   "source": [
    "from selenium import webdriver\n",
    "\n",
    "driver = webdriver.Chrome(\"webdriver/chromedriver.exe\") #웹드라이버 경로는 자신의 환경에 맞게 변경해 주어야 함\n",
    "titles = []\n",
    "\n",
    "#미래에셋대우 검색결과 페이지\n",
    "driver.get(\"http://comp.fnguide.com/SVO2/ASP/SVD_Main.asp?pGB=1&gicode=A006800&cID=&MenuYn=Y&ReportGB=&NewMenuID=101&stkGb=701\")\n",
    "title = driver.find_element_by_css_selector(\"#bizSummaryHeader\").text\n",
    "titles.append(\"미래에셋대우 : \" + title)\n",
    "\n",
    "#메가스터디 검색결과 페이지\n",
    "driver.get(\"http://comp.fnguide.com/SVO2/ASP/SVD_Main.asp?pGB=1&gicode=A072870&cID=&MenuYn=Y&ReportGB=&NewMenuID=101&stkGb=701\")\n",
    "title = driver.find_element_by_css_selector(\"#bizSummaryHeader\").text\n",
    "titles.append(\"메가스터디 : \" + title)\n",
    "\n",
    "f = open(\"out2.txt\", \"w\")\n",
    "for title in titles:\n",
    "    f.write(title+\"\\n\")\n",
    "\n",
    "f.close()\n",
    "print(\"out2.txt 파일생성 완료\")"
   ]
  }
 ],
 "metadata": {
  "kernelspec": {
   "display_name": "Python 3",
   "language": "python",
   "name": "python3"
  },
  "language_info": {
   "codemirror_mode": {
    "name": "ipython",
    "version": 3
   },
   "file_extension": ".py",
   "mimetype": "text/x-python",
   "name": "python",
   "nbconvert_exporter": "python",
   "pygments_lexer": "ipython3",
   "version": "3.7.9"
  }
 },
 "nbformat": 4,
 "nbformat_minor": 4
}
